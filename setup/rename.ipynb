{
 "cells": [
  {
   "cell_type": "code",
   "execution_count": null,
   "metadata": {},
   "outputs": [],
   "source": [
    "import os\n",
    "import re\n",
    "\n",
    "folder_path = r'./h'  # 替换成实际的文件夹路径\n",
    "\n",
    "for filename in os.listdir(folder_path):\n",
    "    if filename.startswith('prod_'):\n",
    "        # 从文件名中提取数字部分\n",
    "        num_str = filename.split('.')[0].split('_')[1]\n",
    "        num_str_padded = num_str.zfill(3)\n",
    "        # 构造新文件名\n",
    "        new_filename = 'prod_' + num_str_padded + filename[len('prod_')+len(num_str):]\n",
    "        # 重命名文件\n",
    "        os.rename(os.path.join(folder_path, filename), os.path.join(folder_path, new_filename))"
   ]
  }
 ],
 "metadata": {
  "language_info": {
   "name": "python"
  },
  "orig_nbformat": 4
 },
 "nbformat": 4,
 "nbformat_minor": 2
}
