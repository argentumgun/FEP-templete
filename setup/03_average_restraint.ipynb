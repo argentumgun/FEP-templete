{
 "cells": [
  {
   "cell_type": "code",
   "execution_count": 1,
   "metadata": {},
   "outputs": [],
   "source": [
    "import os\n",
    "os.chdir(\"./binding_pose_MD/1/analysis/restraint_set_1\")"
   ]
  },
  {
   "cell_type": "code",
   "execution_count": 2,
   "metadata": {},
   "outputs": [],
   "source": [
    "file_list = ['Distance', 'Angle_P', 'Angle_L', 'Dihedral_P','Dihedral_M','Dihedral_L' ]"
   ]
  },
  {
   "cell_type": "code",
   "execution_count": 3,
   "metadata": {},
   "outputs": [],
   "source": [
    "result_path = os.getcwd() + '/AVERAGE.txt'"
   ]
  },
  {
   "cell_type": "code",
   "execution_count": 4,
   "metadata": {},
   "outputs": [],
   "source": [
    "\n",
    "if os.path.exists(result_path):\n",
    "    os.remove(result_path)"
   ]
  },
  {
   "cell_type": "code",
   "execution_count": 5,
   "metadata": {},
   "outputs": [
    {
     "name": "stdout",
     "output_type": "stream",
     "text": [
      "total analysis frame:5000\n",
      "\n",
      "Distance:\t\t3.76\n",
      "\n",
      "Angle_P:\t\t152.45\n",
      "\n",
      "Angle_L:\t\t88.96\n",
      "\n",
      "Dihedral_P:\t\t-123.61\n",
      "\n",
      "Dihedral_M:\t\t-91.81\n",
      "\n",
      "Dihedral_L:\t\t-88.06\n",
      "\n"
     ]
    }
   ],
   "source": [
    "with open(result_path,'w') as result:\n",
    "    for index in range(6):\n",
    "        filename = f'{file_list[index]}.dat'\n",
    "        with open(filename,'r') as f:\n",
    "            #open file\n",
    "            #print('open file ' + filename + ':')\n",
    "            f.readline()\n",
    "            lines = f.readlines()\n",
    "            SIGN = float(lines[0].split()[1])\n",
    "            count = 0\n",
    "            sum = 0\n",
    "            \n",
    "            for line in lines:\n",
    "                s =  float(line.split()[1])\n",
    "                if s * SIGN > 0:\n",
    "                    count += 1\n",
    "                    sum += s\n",
    "            \n",
    "            if(index == 0):\n",
    "                print(f'total analysis frame:{count}\\n')\n",
    "            \n",
    "            print(f\"{file_list[index]}: \\t\\t{sum/count:.3f}\\t\\tcount:{count}\")\n",
    "            #print(\"%s:\\t\\t%0.2f\\n\" % (file_list[index],sum/count))\n",
    "            \n",
    "            #result.write(\"%s: \\t%0.2f\\n\" % (file_list[index],sum/count))\n",
    "            result.write(f\"{file_list[index]}: \\t\\t{sum/count:.3f}\\t\\tcount:{count}\")"
   ]
  },
  {
   "cell_type": "code",
   "execution_count": null,
   "metadata": {},
   "outputs": [],
   "source": []
  }
 ],
 "metadata": {
  "interpreter": {
   "hash": "916dbcbb3f70747c44a77c7bcd40155683ae19c65e1c03b4aa3499c5328201f1"
  },
  "kernelspec": {
   "display_name": "Python 3.6.8 64-bit",
   "language": "python",
   "name": "python3"
  },
  "language_info": {
   "codemirror_mode": {
    "name": "ipython",
    "version": 3
   },
   "file_extension": ".py",
   "mimetype": "text/x-python",
   "name": "python",
   "nbconvert_exporter": "python",
   "pygments_lexer": "ipython3",
   "version": "3.6.8"
  },
  "orig_nbformat": 4
 },
 "nbformat": 4,
 "nbformat_minor": 2
}
