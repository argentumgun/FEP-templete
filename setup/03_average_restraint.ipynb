{
 "cells": [
  {
   "cell_type": "code",
   "execution_count": null,
   "metadata": {},
   "outputs": [],
   "source": [
    "import os\n",
    "import numpy as np\n",
    "import matplotlib.pyplot as plt\n",
    "os.chdir(\"./binding_pose_MD/1/analysis/restraint_set_2\")"
   ]
  },
  {
   "cell_type": "code",
   "execution_count": null,
   "metadata": {},
   "outputs": [],
   "source": [
    "file_list = ['Distance', 'Angle_P', 'Angle_L', 'Dihedral_P','Dihedral_M','Dihedral_L' ]\n",
    "\n",
    "restraint_value = []\n",
    "for i in range(6):\n",
    "    restraint_value.append(np.loadtxt(f'./{file_list[i]}.dat',usecols=1))"
   ]
  },
  {
   "cell_type": "code",
   "execution_count": null,
   "metadata": {},
   "outputs": [],
   "source": [
    "fig,ax = plt.subplots(1,3,sharex=True,figsize=(18,5))\n",
    "fig.suptitle('boresch_restraint_6_DOFs')\n",
    "\n",
    "X = np.linspace(0,501,501)\n",
    "\n",
    "ax[0].set_ylim(ymin=0,ymax=10)\n",
    "distance, = ax[0].plot(X,restraint_value[0],c='k')\n",
    "ax[0].set_xlabel('frame')\n",
    "ax[1].set_xlabel('frame')\n",
    "ax[2].set_xlabel('frame')\n",
    "\n",
    "ax[0].title.set_text(f'distance')\n",
    "ax[1].title.set_text(f'angle')\n",
    "ax[2].title.set_text(f'dihedral')\n",
    "\n",
    "ax[0].set_ylabel('Disatance/Å')\n",
    "ax[1].set_ylabel('Angle/degree ')\n",
    "ax[2].set_ylabel('Dihedral/degree ')\n",
    "\n",
    "ax[1].set_ylim(ymin=0,ymax=180)\n",
    "ang_L, = ax[1].plot(X,restraint_value[1],label='angle_P',c='r')\n",
    "ang_P, = ax[1].plot(X,restraint_value[2],label='angle_L',c='b')\n",
    "\n",
    "ax[2].set_ylim(ymin=-180,ymax=180)\n",
    "dihe_L = ax[2].plot(X,restraint_value[3],label='dihedral_P')\n",
    "dihe_M = ax[2].plot(X,restraint_value[4],label='dihedral_M',c='r')\n",
    "dihe_P = ax[2].plot(X,restraint_value[5],label='dihedral_L')\n",
    "\n",
    "fig.savefig('./6_DOFs.png')"
   ]
  },
  {
   "cell_type": "code",
   "execution_count": null,
   "metadata": {},
   "outputs": [],
   "source": [
    "with open('average_restraint.txt','w') as f:\n",
    "    for i in range(6):\n",
    "        print(f\"{file_list[i]}: \\t\\t{np.average(restraint_value[i]):.3f}\")\n",
    "        f.write(f\"{file_list[i]}: \\t\\t{np.average(restraint_value[i]):.3f}\")"
   ]
  }
 ],
 "metadata": {
  "interpreter": {
   "hash": "916dbcbb3f70747c44a77c7bcd40155683ae19c65e1c03b4aa3499c5328201f1"
  },
  "kernelspec": {
   "display_name": "Python 3.6.8 64-bit",
   "language": "python",
   "name": "python3"
  },
  "language_info": {
   "codemirror_mode": {
    "name": "ipython",
    "version": 3
   },
   "file_extension": ".py",
   "mimetype": "text/x-python",
   "name": "python",
   "nbconvert_exporter": "python",
   "pygments_lexer": "ipython3",
   "version": "3.10.6"
  },
  "orig_nbformat": 4
 },
 "nbformat": 4,
 "nbformat_minor": 2
}
