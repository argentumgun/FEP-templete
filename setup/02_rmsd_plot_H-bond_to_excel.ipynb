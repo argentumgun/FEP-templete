{
 "cells": [
  {
   "cell_type": "code",
   "execution_count": null,
   "metadata": {},
   "outputs": [],
   "source": [
    "import pandas as pd\n",
    "import os\n",
    "\n",
    "os.chdir('./binding_pose_MD/1/analysis')\n",
    "\n",
    "df = pd.read_csv('./avg.dat',delim_whitespace=True)\n",
    "df.to_excel('average_h_bond.xlsx')"
   ]
  },
  {
   "cell_type": "code",
   "execution_count": null,
   "metadata": {},
   "outputs": [],
   "source": [
    "from glob import glob\n",
    "from matplotlib import pyplot as plt\n",
    "import numpy as np\n",
    "\n",
    "path = f\"./*.dat\"\n",
    "list_rmsd = []\n",
    "label = []\n",
    "\n",
    "for filename in glob(path):\n",
    "\n",
    "    if filename.split(\"/\")[1].split(\".\")[0].startswith(\"RMSD_\"):\n",
    "        list_rmsd.append(np.loadtxt(filename,usecols=1))\n",
    "        label.append(filename.split(\"/\")[1].split(\".\")[0].split(\"_\")[1])\n",
    "\n",
    "colors = plt.cm.rainbow(np.linspace(0, 1, len(label)))\n",
    "\n",
    "fig,ax = plt.subplots(1,1,sharex=True,figsize=(15,5))\n",
    "fig.suptitle('RMSD of CDK9/12u', x=0.5, y=0.94)\n",
    "\n",
    "\n",
    "X = np.linspace(0,len(list_rmsd[0])//10,len(list_rmsd[0])//10)\n",
    "ax.set_ylabel('RMSD/Å')\n",
    "ax.set_xlabel('Frame')\n",
    "for i in range(len(list_rmsd)):\n",
    "    ax.plot(X,list_rmsd[i][0:len(list_rmsd[i]):10],label=label[i],c=colors[i])\n",
    "\n",
    "plt.legend()\n",
    "plt.savefig('RMSD.tiff', dpi=300, format='tiff')"
   ]
  }
 ],
 "metadata": {
  "kernelspec": {
   "display_name": "alchemlyb",
   "language": "python",
   "name": "python3"
  },
  "language_info": {
   "codemirror_mode": {
    "name": "ipython",
    "version": 3
   },
   "file_extension": ".py",
   "mimetype": "text/x-python",
   "name": "python",
   "nbconvert_exporter": "python",
   "pygments_lexer": "ipython3",
   "version": "3.10.6"
  },
  "orig_nbformat": 4
 },
 "nbformat": 4,
 "nbformat_minor": 2
}
