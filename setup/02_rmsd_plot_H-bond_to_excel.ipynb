{
 "cells": [
  {
   "cell_type": "code",
   "execution_count": 1,
   "metadata": {},
   "outputs": [
    {
     "ename": "FileNotFoundError",
     "evalue": "[Errno 2] No such file or directory: './binding_pose_MD/1_10_ns/analysis'",
     "output_type": "error",
     "traceback": [
      "\u001b[0;31m---------------------------------------------------------------------------\u001b[0m",
      "\u001b[0;31mFileNotFoundError\u001b[0m                         Traceback (most recent call last)",
      "\u001b[1;32m/home1/wsp/CDK9/templete_20230420/setup/02_rmsd_plot_H-bond_to_excel.ipynb Cell 1\u001b[0m in \u001b[0;36m<cell line: 4>\u001b[0;34m()\u001b[0m\n\u001b[1;32m      <a href='vscode-notebook-cell://ssh-remote%2B202.121.122.73/home1/wsp/CDK9/templete_20230420/setup/02_rmsd_plot_H-bond_to_excel.ipynb#W0sdnNjb2RlLXJlbW90ZQ%3D%3D?line=0'>1</a>\u001b[0m \u001b[39mimport\u001b[39;00m \u001b[39mpandas\u001b[39;00m \u001b[39mas\u001b[39;00m \u001b[39mpd\u001b[39;00m\n\u001b[1;32m      <a href='vscode-notebook-cell://ssh-remote%2B202.121.122.73/home1/wsp/CDK9/templete_20230420/setup/02_rmsd_plot_H-bond_to_excel.ipynb#W0sdnNjb2RlLXJlbW90ZQ%3D%3D?line=1'>2</a>\u001b[0m \u001b[39mimport\u001b[39;00m \u001b[39mos\u001b[39;00m\n\u001b[0;32m----> <a href='vscode-notebook-cell://ssh-remote%2B202.121.122.73/home1/wsp/CDK9/templete_20230420/setup/02_rmsd_plot_H-bond_to_excel.ipynb#W0sdnNjb2RlLXJlbW90ZQ%3D%3D?line=3'>4</a>\u001b[0m os\u001b[39m.\u001b[39;49mchdir(\u001b[39m'\u001b[39;49m\u001b[39m./binding_pose_MD/1_10_ns/analysis\u001b[39;49m\u001b[39m'\u001b[39;49m)\n\u001b[1;32m      <a href='vscode-notebook-cell://ssh-remote%2B202.121.122.73/home1/wsp/CDK9/templete_20230420/setup/02_rmsd_plot_H-bond_to_excel.ipynb#W0sdnNjb2RlLXJlbW90ZQ%3D%3D?line=5'>6</a>\u001b[0m df \u001b[39m=\u001b[39m pd\u001b[39m.\u001b[39mread_csv(\u001b[39m'\u001b[39m\u001b[39m./avg.dat\u001b[39m\u001b[39m'\u001b[39m,delim_whitespace\u001b[39m=\u001b[39m\u001b[39mTrue\u001b[39;00m)\n\u001b[1;32m      <a href='vscode-notebook-cell://ssh-remote%2B202.121.122.73/home1/wsp/CDK9/templete_20230420/setup/02_rmsd_plot_H-bond_to_excel.ipynb#W0sdnNjb2RlLXJlbW90ZQ%3D%3D?line=6'>7</a>\u001b[0m df\u001b[39m.\u001b[39mto_excel(\u001b[39m'\u001b[39m\u001b[39maverage_h_bond.xlsx\u001b[39m\u001b[39m'\u001b[39m)\n",
      "\u001b[0;31mFileNotFoundError\u001b[0m: [Errno 2] No such file or directory: './binding_pose_MD/1_10_ns/analysis'"
     ]
    }
   ],
   "source": [
    "import pandas as pd\n",
    "import os\n",
    "\n",
    "os.chdir('./binding_pose_MD/1/analysis')\n",
    "\n",
    "df = pd.read_csv('./avg.dat',delim_whitespace=True)\n",
    "df.to_excel('average_h_bond.xlsx')"
   ]
  },
  {
   "cell_type": "code",
   "execution_count": 2,
   "metadata": {},
   "outputs": [
    {
     "ename": "IndexError",
     "evalue": "list index out of range",
     "output_type": "error",
     "traceback": [
      "\u001b[0;31m---------------------------------------------------------------------------\u001b[0m",
      "\u001b[0;31mIndexError\u001b[0m                                Traceback (most recent call last)",
      "\u001b[1;32m/home1/wsp/CDK9/templete_20230420/setup/02_rmsd_plot_H-bond_to_excel.ipynb Cell 2\u001b[0m in \u001b[0;36m<cell line: 21>\u001b[0;34m()\u001b[0m\n\u001b[1;32m     <a href='vscode-notebook-cell://ssh-remote%2B202.121.122.73/home1/wsp/CDK9/templete_20230420/setup/02_rmsd_plot_H-bond_to_excel.ipynb#W1sdnNjb2RlLXJlbW90ZQ%3D%3D?line=16'>17</a>\u001b[0m fig,ax \u001b[39m=\u001b[39m plt\u001b[39m.\u001b[39msubplots(\u001b[39m1\u001b[39m,\u001b[39m1\u001b[39m,sharex\u001b[39m=\u001b[39m\u001b[39mTrue\u001b[39;00m,figsize\u001b[39m=\u001b[39m(\u001b[39m15\u001b[39m,\u001b[39m5\u001b[39m))\n\u001b[1;32m     <a href='vscode-notebook-cell://ssh-remote%2B202.121.122.73/home1/wsp/CDK9/templete_20230420/setup/02_rmsd_plot_H-bond_to_excel.ipynb#W1sdnNjb2RlLXJlbW90ZQ%3D%3D?line=17'>18</a>\u001b[0m fig\u001b[39m.\u001b[39msuptitle(\u001b[39m'\u001b[39m\u001b[39mRMSD of complex\u001b[39m\u001b[39m'\u001b[39m, x\u001b[39m=\u001b[39m\u001b[39m0.5\u001b[39m, y\u001b[39m=\u001b[39m\u001b[39m0.94\u001b[39m)\n\u001b[0;32m---> <a href='vscode-notebook-cell://ssh-remote%2B202.121.122.73/home1/wsp/CDK9/templete_20230420/setup/02_rmsd_plot_H-bond_to_excel.ipynb#W1sdnNjb2RlLXJlbW90ZQ%3D%3D?line=20'>21</a>\u001b[0m X \u001b[39m=\u001b[39m np\u001b[39m.\u001b[39mlinspace(\u001b[39m0\u001b[39m,\u001b[39mlen\u001b[39m(list_rmsd[\u001b[39m0\u001b[39;49m])\u001b[39m/\u001b[39m\u001b[39m/\u001b[39m\u001b[39m10\u001b[39m,\u001b[39mlen\u001b[39m(list_rmsd[\u001b[39m0\u001b[39m])\u001b[39m/\u001b[39m\u001b[39m/\u001b[39m\u001b[39m10\u001b[39m)\n\u001b[1;32m     <a href='vscode-notebook-cell://ssh-remote%2B202.121.122.73/home1/wsp/CDK9/templete_20230420/setup/02_rmsd_plot_H-bond_to_excel.ipynb#W1sdnNjb2RlLXJlbW90ZQ%3D%3D?line=21'>22</a>\u001b[0m ax\u001b[39m.\u001b[39mset_ylabel(\u001b[39m'\u001b[39m\u001b[39mRMSD/Å\u001b[39m\u001b[39m'\u001b[39m)\n\u001b[1;32m     <a href='vscode-notebook-cell://ssh-remote%2B202.121.122.73/home1/wsp/CDK9/templete_20230420/setup/02_rmsd_plot_H-bond_to_excel.ipynb#W1sdnNjb2RlLXJlbW90ZQ%3D%3D?line=22'>23</a>\u001b[0m ax\u001b[39m.\u001b[39mset_xlabel(\u001b[39m'\u001b[39m\u001b[39mFrame\u001b[39m\u001b[39m'\u001b[39m)\n",
      "\u001b[0;31mIndexError\u001b[0m: list index out of range"
     ]
    },
    {
     "data": {
      "image/png": "[encoded data removed]",
      "text/plain": [
       "<Figure size 1500x500 with 1 Axes>"
      ]
     },
     "metadata": {},
     "output_type": "display_data"
    }
   ],
   "source": [
    "from glob import glob\n",
    "from matplotlib import pyplot as plt\n",
    "import numpy as np\n",
    "\n",
    "path = f\"./*.dat\"\n",
    "list_rmsd = []\n",
    "label = []\n",
    "\n",
    "for filename in glob(path):\n",
    "\n",
    "    if filename.split(\"/\")[1].split(\".\")[0].startswith(\"RMSD_\"):\n",
    "        list_rmsd.append(np.loadtxt(filename,usecols=1))\n",
    "        label.append(filename.split(\"/\")[1].split(\".\")[0].split(\"_\")[1])\n",
    "\n",
    "colors = plt.cm.rainbow(np.linspace(0, 1, len(label)))\n",
    "\n",
    "fig,ax = plt.subplots(1,1,sharex=True,figsize=(15,5))\n",
    "fig.suptitle('RMSD of complex', x=0.5, y=0.94)\n",
    "\n",
    "\n",
    "X = np.linspace(0,len(list_rmsd[0])//10,len(list_rmsd[0])//10)\n",
    "ax.set_ylabel('RMSD/Å')\n",
    "ax.set_xlabel('Frame')\n",
    "for i in range(len(list_rmsd)):\n",
    "    ax.plot(X,list_rmsd[i][0:len(list_rmsd[i]):10],label=label[i],c=colors[i])\n",
    "\n",
    "plt.legend()\n",
    "plt.savefig('RMSD.tiff', dpi=300, format='tiff')"
   ]
  },
  {
   "cell_type": "code",
   "execution_count": null,
   "metadata": {},
   "outputs": [],
   "source": []
  }
 ],
 "metadata": {
  "kernelspec": {
   "display_name": "alchemlyb",
   "language": "python",
   "name": "python3"
  },
  "language_info": {
   "codemirror_mode": {
    "name": "ipython",
    "version": 3
   },
   "file_extension": ".py",
   "mimetype": "text/x-python",
   "name": "python",
   "nbconvert_exporter": "python",
   "pygments_lexer": "ipython3",
   "version": "3.10.6"
  },
  "orig_nbformat": 4
 },
 "nbformat": 4,
 "nbformat_minor": 2
}
