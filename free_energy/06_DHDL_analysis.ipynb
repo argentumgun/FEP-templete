{
 "cells": [
  {
   "cell_type": "code",
   "execution_count": null,
   "metadata": {},
   "outputs": [],
   "source": [
    "import os\n",
    "import numpy as np\n",
    "import pandas as pd\n",
    "import matplotlib.pyplot as plt"
   ]
  },
  {
   "cell_type": "code",
   "execution_count": null,
   "metadata": {},
   "outputs": [],
   "source": [
    "top = os.getcwd()\n",
    "alchemical = 'complex_1_10_100_100'"
   ]
  },
  {
   "cell_type": "code",
   "execution_count": null,
   "metadata": {},
   "outputs": [],
   "source": [
    "windows = [0.0, 0.01, 0.025, 0.05, 0.075, 0.1, 0.15, 0.2, 0.3, 0.4, 0.5, 0.6, 0.65, 0.7, 0.75, 0.8, 0.85, 0.9, 0.95, 1.0]\n"
   ]
  },
  {
   "cell_type": "code",
   "execution_count": null,
   "metadata": {},
   "outputs": [],
   "source": [
    "dhdl = []\n",
    "for window in windows:\n",
    "    with open(os.path.join(top, alchemical, 'vdw_crg_one_step', str(window), 'ti001.out')) as f:\n",
    "        lines = [line for line in f.readlines() if line.strip()]\n",
    "        index = 0\n",
    "        # find start\n",
    "        while not (lines[index].startswith('Summary')):\n",
    "            index += 1\n",
    "        index += 1\n",
    "        # collect data\n",
    "        while not(lines[index].startswith('End')):\n",
    "            dhdl.append(float(lines[index]))\n",
    "            index += 1\n",
    "data = np.array(dhdl)\n",
    "DHDL = data.reshape(20, 1000, 1000)"
   ]
  },
  {
   "cell_type": "code",
   "execution_count": null,
   "metadata": {},
   "outputs": [],
   "source": [
    "fig,ax = plt.subplots(figsize=(20,5))\n",
    "#ax.plot( DHDL.mean(axis=2).reshape(20000))\n",
    "ax.scatter(list(range(1,20001)),DHDL.mean(axis=2).reshape(20000),alpha=0.1)\n",
    "fig.suptitle('DHDL_frame')\n",
    "ax.set_xlabel('Frame')\n",
    "ax.set_ylabel('DV/DL')\n",
    "fig.savefig(os.path.join(top, alchemical, f'analysis/residue_analysis/complex/DHDL_frame.pdf'))"
   ]
  },
  {
   "cell_type": "code",
   "execution_count": null,
   "metadata": {},
   "outputs": [],
   "source": [
    "DHDL.shape"
   ]
  },
  {
   "cell_type": "code",
   "execution_count": null,
   "metadata": {},
   "outputs": [],
   "source": [
    "fig,ax = plt.subplots(figsize=(20,5))\n",
    "dhdl = DHDL.reshape(20,1000000).mean(axis=1)\n",
    "ax.plot(windows,dhdl)\n",
    "plt.title('DHDL_lambda')"
   ]
  },
  {
   "cell_type": "code",
   "execution_count": null,
   "metadata": {},
   "outputs": [],
   "source": [
    "area = 0\n",
    "for i in range(len(dhdl)-1):\n",
    "    area += (dhdl[i] + dhdl[i+1]) * (windows[i+1] - windows[i]) / 2\n",
    "area"
   ]
  },
  {
   "cell_type": "code",
   "execution_count": null,
   "metadata": {},
   "outputs": [],
   "source": [
    "def plot_dhdl(file_name):\n",
    "    dihedral_window = np.loadtxt(os.path.join(top,alchemical,f'analysis/residue_analysis/complex/{file_name}.dat'),usecols=1).reshape(20,1000)\n",
    "    fig,ax = plt.subplots(5,4,sharex=True,sharey=True,figsize=(24,18))\n",
    "    fig.suptitle(f'{file_name} VS DHDL')\n",
    "    X = np.linspace(0,1000,1000)\n",
    "    for i in range(20):\n",
    "        line1, = ax[int(i/4),i%4].plot(X, dihedral_window[i], label=file_name,c='b')\n",
    "        ax[int(i/4),i%4].set_xlabel('Frame')\n",
    "        ax[int(i/4),i%4].set_ylabel(file_name)\n",
    "        ax2 = ax[int(i/4),i%4].twinx()\n",
    "        line2, = ax2.plot(X, DHDL[i][::1000].T, label ='DHDL',c='r')\n",
    "        #plot2, = ax2.scatter(list(range(1,1001)),DHDL[i][::1000].T)\n",
    "        ax2.set_ylabel('DHDL(kcal/mol)')\n",
    "        ax[int(i/4),i%4].legend(handles=[line1,line2],loc=1)\n",
    "        ax[int(i/4),i%4].title.set_text(f'lambda_{windows[i]}')\n",
    "        \n",
    "    fig.savefig(os.path.join(top, alchemical, f'analysis/residue_analysis/complex/{file_name}_DHDL.pdf'))\n",
    "    return 0"
   ]
  },
  {
   "cell_type": "code",
   "execution_count": null,
   "metadata": {},
   "outputs": [],
   "source": [
    "plot_dhdl('Dihedral_ILE_25')"
   ]
  },
  {
   "cell_type": "code",
   "execution_count": null,
   "metadata": {},
   "outputs": [],
   "source": [
    "plot_dhdl('Dihedral_ASP_109')"
   ]
  },
  {
   "cell_type": "code",
   "execution_count": null,
   "metadata": {},
   "outputs": [],
   "source": [
    "plot_dhdl('Dihedral_PHE_103')"
   ]
  },
  {
   "cell_type": "code",
   "execution_count": null,
   "metadata": {},
   "outputs": [],
   "source": [
    "plot_dhdl('Dihedral_PHE_105')"
   ]
  },
  {
   "cell_type": "code",
   "execution_count": null,
   "metadata": {},
   "outputs": [],
   "source": [
    "plot_dhdl('RMSD_LIGAND')"
   ]
  },
  {
   "cell_type": "code",
   "execution_count": null,
   "metadata": {},
   "outputs": [],
   "source": [
    "plot_dhdl('RMSD_LOOP')"
   ]
  }
 ],
 "metadata": {
  "interpreter": {
   "hash": "b6448ce1f87e3092c2b61988471f2179a9e78f4cad5bb3e1a1f5ed40c2175b16"
  },
  "kernelspec": {
   "display_name": "Python 3.9.7 ('base')",
   "language": "python",
   "name": "python3"
  },
  "language_info": {
   "codemirror_mode": {
    "name": "ipython",
    "version": 3
   },
   "file_extension": ".py",
   "mimetype": "text/x-python",
   "name": "python",
   "nbconvert_exporter": "python",
   "pygments_lexer": "ipython3",
   "version": "3.9.7"
  },
  "orig_nbformat": 4
 },
 "nbformat": 4,
 "nbformat_minor": 2
}
