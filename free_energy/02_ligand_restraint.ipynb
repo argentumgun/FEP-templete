{
 "cells": [
  {
   "cell_type": "code",
   "execution_count": null,
   "metadata": {},
   "outputs": [],
   "source": [
    "import math\n",
    "import numpy as np\n",
    "import os\n",
    "from pymbar import MBAR\n",
    "\n",
    "top_dir = os.getcwd()\n",
    "\n",
    "#===================================================================================================\n",
    "# INPUTS\n",
    "#===================================================================================================\n",
    "\n",
    "K = 8.314472 * 0.001  # Gas constant in kJ/mol/K    kJ/mol/K\n",
    "V = 1661              # average volume per molecule for a reference concentration of  is 1.661 x 10^3 Å^3/molecule.\n",
    "\n",
    "T      = 300.0          # Temperature in Kelvin\n",
    "\n",
    "r0      = 0       # Distance in A\n",
    "thA_0   = 0     # Angle in degrees (protein)\n",
    "thB_0   = 0     # Angle in degrees (ligand)\n",
    "\n",
    "#  kcal * 4.186 ---->  kJ\n",
    "#\n",
    "# AMBER restraint = k * d_x ^ 2, boresch u = 1/2 * k * d_x ^ 2\n",
    "# \n",
    "# BORESCH FORMULA\n",
    "K_r    = 2 * 10 * 4.186      # force constant for distance (kJ/mol/A^2)  \n",
    "K_thA  = 2 * 100 * 4.186     # force constant for angle    (kJ/mol/rad^2)\n",
    "K_thB  = 2 * 100 * 4.186     # force constant for angle    (kJ/mol/rad^2)\n",
    "K_phiA = 2 * 100 * 4.186     # force constant for dihedral (kJ/mol/rad^2)\n",
    "K_phiB = 2 * 100 * 4.186     # force constant for dihedral (kJ/mol/rad^2)\n",
    "K_phiC = 2 * 100 * 4.186     # force constant for dihedral (kJ/mol/rad^2)\n",
    "\n",
    "# ROUX FORMULA\n",
    "K_dist    = 2 * 10 * 4.186     # force constant for distance    (kJ/mol/A^2)  \n",
    "K_ang     = 2 * 100 * 4.186    # force constant for angle       (kJ/mol/rad^2)\n",
    "K_rotate  = 2 * 100 * 4.186    # force constant for dihedral    (kJ/mol/rad^2)\n",
    "\n",
    "# AMBER RESTRAINT CONSTANT\n",
    "K_DIST      = 10           # force constant for distance    (kcal/mol/A^2)  \n",
    "K_ANG       = 100          # force constant for angle       (kcal/mol/rad^2)\n",
    "K_ROTATE    = 100          # force constant for dihedral    (kcal/mol/rad^2)"
   ]
  },
  {
   "cell_type": "code",
   "execution_count": null,
   "metadata": {},
   "outputs": [],
   "source": [
    "# read in balanced values\n",
    "with open('./init_structure/Boresch_restraint.tmpl','r') as f:\n",
    "    lines = [line for line in f.readlines() if line.strip()]\n",
    "    r0 = float(lines[1].split()[1].split('=')[1].strip(','))\n",
    "    thA_0 = float(lines[5].split()[1].split('=')[1].strip(','))\n",
    "    thB_0 = float(lines[9].split()[1].split('=')[1].strip(','))\n",
    "    dihedral_P_0 = float(lines[13].split()[1].split('=')[1].strip(','))\n",
    "    dihedral_M_0 = float(lines[17].split()[1].split('=')[1].strip(','))\n",
    "    dihedral_L_0 = float(lines[21].split()[1].split('=')[1].strip(','))"
   ]
  },
  {
   "cell_type": "code",
   "execution_count": null,
   "metadata": {},
   "outputs": [],
   "source": [
    "#===================================================================================================\n",
    "# BORESCH FORMULA\n",
    "#===================================================================================================\n",
    "\n",
    "thA = math.radians(thA_0)  # convert angle from degrees to radians --> math.sin() wants radians\n",
    "thB = math.radians(thB_0)  # convert angle from degrees to radians --> math.sin() wants radians\n",
    "\n",
    "arg =(\n",
    "    (8.0 * math.pi**2.0 * V) / (r0**2.0 * math.sin(thA) * math.sin(thB)) \n",
    "    * \n",
    "    (\n",
    "        ( (K_r * K_thA * K_thB * K_phiA * K_phiB * K_phiC)**0.5 ) / ( (2.0 * math.pi * K * T)**(3.0) )\n",
    "    )\n",
    ")"
   ]
  },
  {
   "cell_type": "code",
   "execution_count": null,
   "metadata": {},
   "outputs": [],
   "source": [
    "dG = - K * T * math.log(arg)\n",
    "\n",
    "print (\"dG_off = %8.3f kcal/mol\" %(dG/4.186))\n",
    "print (\"dG_on  = %8.3f kcal/mol\" %(-dG/4.186))\n",
    "# 1 kcal = 4.186 KJ"
   ]
  },
  {
   "cell_type": "code",
   "execution_count": null,
   "metadata": {},
   "outputs": [],
   "source": [
    "#===================================================================================================\n",
    "# ROUX FORMULA\n",
    "#===================================================================================================\n",
    "\n",
    "thA = math.radians(thA_0)  # convert angle from degrees to radians --> math.sin() wants radians\n",
    "thB = math.radians(thB_0)  # convert angle from degrees to radians --> math.sin() wants radians\n",
    "\n",
    "Ft = r0 ** 2 * math.sin(thA) * ((2.0 * math.pi * K * T)**(3.0) / (K_dist * K_ang ** 2)) ** 0.5\n",
    "\n",
    "Fr = math.sin(thB) * (2.0 * math.pi * K * T / K_rotate) ** 1.5 / (8 * math.pi ** 2)"
   ]
  },
  {
   "cell_type": "code",
   "execution_count": null,
   "metadata": {},
   "outputs": [],
   "source": [
    "dG = - K * T * math.log(Ft / V * Fr)\n",
    "print (f\"dG = {dG/4.186:.3f} kcal/mol\")"
   ]
  },
  {
   "cell_type": "code",
   "execution_count": null,
   "metadata": {},
   "outputs": [],
   "source": [
    "data_dir = './complex_1_10_100_100/post_processing'\n",
    "#restraints = ['Distance', 'Angle_P', 'Angle_L', 'Dihedral_P','Dihedral_M','Dihedral_L']\n",
    "mbar_energy = []\n",
    "with open(f'{data_dir}/fort.7','r') as f:\n",
    "    lines = [line for line in f.readlines() if line.startswith(' NMR')]\n",
    "    print(lines[0].split())\n",
    "    for line in lines:\n",
    "        energy = float(line.split()[4]) + float(line.split()[7]) + float(line.split()[10])\n",
    "        mbar_energy.append(energy)\n",
    "mbar_state_1_0 = np.array(mbar_energy)"
   ]
  },
  {
   "cell_type": "code",
   "execution_count": null,
   "metadata": {},
   "outputs": [],
   "source": [
    "states = [ 0.0, 0.01, 0.025, 0.05, 0.075, 0.1, 0.15, 0.2, 0.35, 0.5, 0.75, 1.0]"
   ]
  },
  {
   "cell_type": "code",
   "execution_count": null,
   "metadata": {},
   "outputs": [],
   "source": [
    "beta = 1.0 / (300 * 1.380649e-23 )\n",
    "# (RESTRAINT * 4.186 * 1000 / 6.02214076e23) * beta\n",
    "u_kn = [mbar_state_1_0 * 4.186 * 1000 / 6.02214076e23 * beta * state for state in states]"
   ]
  },
  {
   "cell_type": "code",
   "execution_count": null,
   "metadata": {},
   "outputs": [],
   "source": [
    "mbar_energy = np.array(u_kn)"
   ]
  },
  {
   "cell_type": "code",
   "execution_count": null,
   "metadata": {},
   "outputs": [],
   "source": [
    "N_k = np.full(len(states),1000,dtype=np.int32)"
   ]
  },
  {
   "cell_type": "code",
   "execution_count": null,
   "metadata": {},
   "outputs": [],
   "source": [
    "from pymbar import MBAR"
   ]
  },
  {
   "cell_type": "code",
   "execution_count": null,
   "metadata": {},
   "outputs": [],
   "source": [
    "mbar = MBAR(u_kn,N_k)"
   ]
  },
  {
   "cell_type": "code",
   "execution_count": null,
   "metadata": {},
   "outputs": [],
   "source": [
    "Delta_f_ij, dDelta_f_ij, Theta_ij = mbar.getFreeEnergyDifferences(return_theta=True)"
   ]
  },
  {
   "cell_type": "code",
   "execution_count": null,
   "metadata": {},
   "outputs": [],
   "source": [
    "dDelta_f_ij"
   ]
  },
  {
   "cell_type": "code",
   "execution_count": null,
   "metadata": {},
   "outputs": [],
   "source": [
    "print('Delta_f_ij.shape:',Delta_f_ij.shape)\n",
    "print(f\"Restraint energy : {Delta_f_ij[0,-1] / beta / 1000 / 4.186 * 6.02214076e23:.3f} ± {dDelta_f_ij[0,-1] / beta / 1000 / 4.186 * 6.02214076e23:.3f} Kcal/mol\")\n",
    "with open(f'{data_dir}/Restraint_energy.txt','w') as f:\n",
    "    f.write(f'Restraint energy(MBAR): {Delta_f_ij[0,-1] / beta / 1000 / 4.186 * 6.02214076e23:.3f} ± {dDelta_f_ij[0,-1] / beta / 1000 / 4.186 * 6.02214076e23:.3f} Kcal/mol\\n')\n",
    "    for i in range(11):\n",
    "        f.writelines(f'{Delta_f_ij[i][i+1] * 0.596:.3f}\\n')\n",
    "\n",
    "with open(f'{top_dir}/summary_ABFE.txt','a') as f:\n",
    "    f.write('Boresch formula analysis\\n')\n",
    "    f.write(f'\\tdG_analysis = \\t{dG/4.186:.3f} \\tkcal/mol\\n')\n",
    "    f.write('remove restraint in complex\\n')\n",
    "    f.write(f'\\t\\t-{Delta_f_ij[0,-1] / beta / 1000 / 4.186 * 6.02214076e23:.3f}\\t± {dDelta_f_ij[0,-1] / beta / 1000 / 4.186 * 6.02214076e23:.3f} \\tKcal/mol\\n')"
   ]
  },
  {
   "cell_type": "code",
   "execution_count": null,
   "metadata": {},
   "outputs": [],
   "source": [
    "import pandas as pd\n",
    "pd.DataFrame(Delta_f_ij * 0.596)"
   ]
  },
  {
   "cell_type": "code",
   "execution_count": null,
   "metadata": {},
   "outputs": [],
   "source": [
    "O_ij = mbar.computeOverlap()['matrix']\n",
    "np.savetxt(f'{data_dir}/restraint_overlap.txt',O_ij,fmt='%.8f')\n",
    "O_ij.round(decimals=3, out=O_ij)\n",
    "pd.DataFrame(O_ij)"
   ]
  }
 ],
 "metadata": {
  "kernelspec": {
   "display_name": "Python 3.10.6 ('alchemlyb')",
   "language": "python",
   "name": "python3"
  },
  "language_info": {
   "codemirror_mode": {
    "name": "ipython",
    "version": 3
   },
   "file_extension": ".py",
   "mimetype": "text/x-python",
   "name": "python",
   "nbconvert_exporter": "python",
   "pygments_lexer": "ipython3",
   "version": "3.10.6"
  },
  "orig_nbformat": 4,
  "vscode": {
   "interpreter": {
    "hash": "74078c60bce3d6be16ed71c1715da3ff4aa5c29c13a96178f498362f450078a2"
   }
  }
 },
 "nbformat": 4,
 "nbformat_minor": 2
}
