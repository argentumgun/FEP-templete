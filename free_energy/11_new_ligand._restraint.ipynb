{
 "cells": [
  {
   "cell_type": "code",
   "execution_count": 1,
   "metadata": {},
   "outputs": [],
   "source": [
    "import math\n",
    "\n",
    "#===================================================================================================\n",
    "# INPUTS\n",
    "#===================================================================================================\n",
    "\n",
    "K = 8.314472 * 0.001  # Gas constant in kJ/mol/K    kJ/mol/K\n",
    "V = 1660              # average volume per molecule for a reference concentration of  is 1.661 x 10^3 Å^3/molecule.\n",
    "\n",
    "T      = 300.0          # Temperature in Kelvin\n",
    "\n",
    "r0      = 0       # Distance in A\n",
    "thA_0   = 0     # Angle in degrees (protein)\n",
    "thB_0   = 0     # Angle in degrees (ligand)\n",
    "\n",
    "#  kcal * 4.186 ---->  kJ\n",
    "\n",
    "# BORESCH FORMULA\n",
    "K_r    = 20 * 4.186      # force constant for distance (kJ/mol/A^2)  \n",
    "K_thA  = 200 * 4.186     # force constant for angle    (kJ/mol/rad^2)\n",
    "K_thB  = 200 * 4.186     # force constant for angle    (kJ/mol/rad^2)\n",
    "K_phiA = 200 * 4.186     # force constant for dihedral (kJ/mol/rad^2)\n",
    "K_phiB = 200 * 4.186     # force constant for dihedral (kJ/mol/rad^2)\n",
    "K_phiC = 200 * 4.186     # force constant for dihedral (kJ/mol/rad^2)\n",
    "\n",
    "# ROUX FORMULA\n",
    "K_dist    = 20 * 4.186     # force constant for distance (kJ/mol/A^2)  \n",
    "K_ang     = 200 * 4.186    # force constant for angle    (kJ/mol/rad^2)\n",
    "K_rotate  = 200 * 4.186    # force constant for angle    (kJ/mol/rad^2)"
   ]
  },
  {
   "cell_type": "code",
   "execution_count": null,
   "metadata": {},
   "outputs": [],
   "source": [
    "with open('./init_structure/Boresch_restraint.tmpl','r') as f:\n",
    "    lines = [line for line in f.readlines() if line.strip()]\n",
    "    r0 = float(lines[1].split()[1].split('=')[1].strip(','))\n",
    "    thA_0 = float(lines[5].split()[1].split('=')[1].strip(','))\n",
    "    thB_0 = float(lines[9].split()[1].split('=')[1].strip(','))"
   ]
  },
  {
   "cell_type": "code",
   "execution_count": 2,
   "metadata": {},
   "outputs": [],
   "source": [
    "#===================================================================================================\n",
    "# BORESCH FORMULA\n",
    "#===================================================================================================\n",
    "\n",
    "thA = math.radians(thA_0)  # convert angle from degrees to radians --> math.sin() wants radians\n",
    "thB = math.radians(thB_0)  # convert angle from degrees to radians --> math.sin() wants radians\n",
    "\n",
    "arg =(\n",
    "    (8.0 * math.pi**2.0 * V) / (r0**2.0 * math.sin(thA) * math.sin(thB)) \n",
    "    * \n",
    "    (\n",
    "        ( (K_r * K_thA * K_thB * K_phiA * K_phiB * K_phiC)**0.5 ) / ( (2.0 * math.pi * K * T)**(3.0) )\n",
    "    )\n",
    ")"
   ]
  },
  {
   "cell_type": "code",
   "execution_count": 3,
   "metadata": {},
   "outputs": [
    {
     "name": "stdout",
     "output_type": "stream",
     "text": [
      "dG_off =  -12.132 kcal/mol\n",
      "dG_on  =   12.132 kcal/mol\n"
     ]
    }
   ],
   "source": [
    "dG = - K * T * math.log(arg)\n",
    "\n",
    "print (\"dG_off = %8.3f kcal/mol\" %(dG/4.186))\n",
    "print (\"dG_on  = %8.3f kcal/mol\" %(-dG/4.186))\n",
    "# 1 kcal = 4.186 KJ"
   ]
  },
  {
   "cell_type": "code",
   "execution_count": 4,
   "metadata": {},
   "outputs": [],
   "source": [
    "#===================================================================================================\n",
    "# ROUX FORMULA\n",
    "#===================================================================================================\n",
    "\n",
    "thA = math.radians(thA_0)  # convert angle from degrees to radians --> math.sin() wants radians\n",
    "thB = math.radians(thB_0)  # convert angle from degrees to radians --> math.sin() wants radians\n",
    "\n",
    "Ft = r0 ** 2 * math.sin(thA) * ((2.0 * math.pi * K * T)**(3.0) / (K_dist * K_ang ** 2)) ** 0.5\n",
    "\n",
    "Fr = math.sin(thB) * (2.0 * math.pi * K * T / K_rotate) ** 1.5 / (8 * math.pi ** 2)"
   ]
  },
  {
   "cell_type": "code",
   "execution_count": 5,
   "metadata": {},
   "outputs": [
    {
     "name": "stdout",
     "output_type": "stream",
     "text": [
      "dG = 12.132 kcal/mol\n"
     ]
    }
   ],
   "source": [
    "dG = - K * T * math.log(Ft / V * Fr)\n",
    "print (f\"dG = {dG/4.186:.3f} kcal/mol\")"
   ]
  },
  {
   "cell_type": "code",
   "execution_count": null,
   "metadata": {},
   "outputs": [],
   "source": []
  }
 ],
 "metadata": {
  "kernelspec": {
   "display_name": "Python 3.6.8 64-bit",
   "language": "python",
   "name": "python3"
  },
  "language_info": {
   "codemirror_mode": {
    "name": "ipython",
    "version": 3
   },
   "file_extension": ".py",
   "mimetype": "text/x-python",
   "name": "python",
   "nbconvert_exporter": "python",
   "pygments_lexer": "ipython3",
   "version": "3.6.8"
  },
  "orig_nbformat": 4,
  "vscode": {
   "interpreter": {
    "hash": "916dbcbb3f70747c44a77c7bcd40155683ae19c65e1c03b4aa3499c5328201f1"
   }
  }
 },
 "nbformat": 4,
 "nbformat_minor": 2
}
