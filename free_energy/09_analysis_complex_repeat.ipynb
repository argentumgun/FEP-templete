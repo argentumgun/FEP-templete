{
 "cells": [
  {
   "cell_type": "code",
   "execution_count": null,
   "metadata": {},
   "outputs": [],
   "source": [
    "import pandas as pd\n",
    "import os\n",
    "from alchemlyb.parsing import amber\n",
    "from alchemlyb.estimators import TI,MBAR\n",
    "from alchemlyb.postprocessors.units import to_kcalmol, to_kJmol, to_kT\n"
   ]
  },
  {
   "cell_type": "code",
   "execution_count": null,
   "metadata": {},
   "outputs": [],
   "source": [
    "top = os.getcwd()\n",
    "result_dir = ['complex_1_20_200_200', 'complex_7_20_200_200', 'complex_8_20_200_200']\n",
    "os.chdir('./no_restraint_mix')\n",
    "file_list = [0.0, 0.01, 0.025, 0.05, 0.075, 0.1, 0.15, 0.2, 0.3, 0.4, 0.5, 0.6, 0.7, 0.8, 0.9, 1.0]"
   ]
  },
  {
   "cell_type": "code",
   "execution_count": null,
   "metadata": {},
   "outputs": [],
   "source": [
    "dHdl = pd.concat([amber.extract_dHdl(f'{top}/{dir}/vdw_crg_one_step/{filename}/ti001.out', T=300) for dir in result_dir for filename in file_list])\n",
    "u_nk_rm_rest = pd.concat([amber.extract_u_nk(f'{top}/{dir}/vdw_crg_one_step/{filename}/ti001.out', T=300) for dir in result_dir for filename in file_list])"
   ]
  },
  {
   "cell_type": "code",
   "execution_count": null,
   "metadata": {},
   "outputs": [],
   "source": [
    "u_nk_rm_rest.shape"
   ]
  },
  {
   "cell_type": "code",
   "execution_count": null,
   "metadata": {},
   "outputs": [],
   "source": [
    "u_nk_rm_rest"
   ]
  },
  {
   "cell_type": "code",
   "execution_count": null,
   "metadata": {},
   "outputs": [],
   "source": [
    "ti_estimator = TI().fit(dHdl)\n",
    "mbar_estimator = MBAR().fit(u_nk_rm_rest)"
   ]
  },
  {
   "cell_type": "code",
   "execution_count": null,
   "metadata": {},
   "outputs": [],
   "source": [
    "print('MBAR free energy output is\\n', mbar_estimator.delta_f_)\n",
    "\n",
    "print('energy unit is',  mbar_estimator.delta_f_.attrs['energy_unit'])\n",
    "print('free energy difference is', mbar_estimator.delta_f_.loc[0.00, 1.00])\n",
    "\n",
    "delta_f_kcalmol = to_kcalmol(mbar_estimator.delta_f_)\n",
    "print('energy unit is', delta_f_kcalmol.attrs['energy_unit'])\n",
    "print('free energy difference is now', delta_f_kcalmol.loc[0.00, 1.00])"
   ]
  },
  {
   "cell_type": "code",
   "execution_count": null,
   "metadata": {},
   "outputs": [],
   "source": [
    "delta_f = ti_estimator.delta_f_.iloc[0, -1]\n",
    "d_delta_f = ti_estimator.d_delta_f_.iloc[0, -1]"
   ]
  },
  {
   "cell_type": "code",
   "execution_count": null,
   "metadata": {},
   "outputs": [],
   "source": [
    "print(\"TI:\")\n",
    "print(\"Free energy difference (TI)\", delta_f, \"kT\")\n",
    "print(\"Free energy difference (TI) error\", d_delta_f, \"kT\")\n",
    "print(\"Free energy difference (MBAR)\", mbar_estimator.delta_f_.loc[0.0, 1.0], 'kT')\n",
    "print(\"Free energy difference (MBAR) error\", mbar_estimator.d_delta_f_.loc[0.0, 1.0], 'kT')\n"
   ]
  },
  {
   "cell_type": "code",
   "execution_count": null,
   "metadata": {},
   "outputs": [],
   "source": [
    "from alchemlyb.visualisation import plot_ti_dhdl,plot_mbar_overlap_matrix\n",
    "ax = plot_ti_dhdl([ti_estimator], labels=['dHdl'], colors=['r'],units='kcal/mol')\n",
    "ax.figure.savefig('onestep_dhdl_TI.pdf')"
   ]
  },
  {
   "cell_type": "code",
   "execution_count": null,
   "metadata": {},
   "outputs": [],
   "source": [
    "ax = plot_mbar_overlap_matrix(mbar_estimator.overlap_matrix)\n",
    "ax.figure.savefig('onestep_MBAR.pdf', bbox_inches='tight', pad_inches=0.0)"
   ]
  },
  {
   "cell_type": "code",
   "execution_count": null,
   "metadata": {},
   "outputs": [],
   "source": [
    "import matplotlib.pyplot as plt\n",
    "from alchemlyb.visualisation.dF_state import plot_dF_state"
   ]
  },
  {
   "cell_type": "code",
   "execution_count": null,
   "metadata": {},
   "outputs": [],
   "source": [
    "estimators = [(ti_estimator), (mbar_estimator)]\n",
    "\n",
    "fig = plot_dF_state(estimators, orientation='portrait',units='kcal/mol')\n",
    "fig.savefig('dF_state.pdf', bbox_inches='tight')\n",
    "\n",
    "file_path = os.getcwd() + '/resust.txt'\n",
    "with open(file_path,'w') as f:\n",
    "    f.write(f'Free energy difference(TI): {delta_f * 0.596:.3f} ± {d_delta_f * 0.596:.3f} Kcal/mol\\n') \n",
    "    f.write(f\"Free energy difference (MBAR): {(mbar_estimator.delta_f_.loc[0.0, 1.0] * 0.596):.3f} ± {(mbar_estimator.d_delta_f_.loc[0.0, 1.0] * 0.596):.3f} Kcal/mol\\n\")\n",
    "    for i in range(len(file_list)-1):\n",
    "        f.writelines(f'{mbar_estimator.delta_f_.loc[file_list[i],file_list[i+1]] * 0.596:.3f}\\n')\n",
    "\n",
    "f.close()"
   ]
  },
  {
   "cell_type": "code",
   "execution_count": null,
   "metadata": {},
   "outputs": [],
   "source": []
  }
 ],
 "metadata": {
  "kernelspec": {
   "display_name": "Python 3.10.4 ('alchemlyb')",
   "language": "python",
   "name": "python3"
  },
  "language_info": {
   "codemirror_mode": {
    "name": "ipython",
    "version": 3
   },
   "file_extension": ".py",
   "mimetype": "text/x-python",
   "name": "python",
   "nbconvert_exporter": "python",
   "pygments_lexer": "ipython3",
   "version": "3.10.4"
  },
  "orig_nbformat": 4,
  "vscode": {
   "interpreter": {
    "hash": "74078c60bce3d6be16ed71c1715da3ff4aa5c29c13a96178f498362f450078a2"
   }
  }
 },
 "nbformat": 4,
 "nbformat_minor": 2
}
