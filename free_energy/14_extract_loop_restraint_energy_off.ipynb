{
 "cells": [
  {
   "cell_type": "code",
   "execution_count": 1,
   "metadata": {},
   "outputs": [],
   "source": [
    "import os\n",
    "os.chdir(os.path.join(os.getcwd(),'complex_6_20_200_200_restraint_loop_no_DI-PHE_0.01/loop_restraint_off_04_sir_this_way/post_processing'))"
   ]
  },
  {
   "cell_type": "code",
   "execution_count": 2,
   "metadata": {},
   "outputs": [],
   "source": [
    "name_list = [0.0, 0.2, 0.4, 0.6, 0.8, 1.0]\n",
    "#name_list = [0.0, 0.01, 0.025, 0.05, 0.075, 0.1, 0.15, 0.2, 0.35, 0.5, 0.75, 1.0]\n",
    "main_dir = os.getcwd()\n",
    "beta = 1.0 / (300 * 1.380649e-23 )   # 1 / (J/K * K ) --> 1 / J\n",
    "# reduced_potential =  beta * potential_energy main_dir="
   ]
  },
  {
   "cell_type": "code",
   "execution_count": 3,
   "metadata": {},
   "outputs": [
    {
     "name": "stdout",
     "output_type": "stream",
     "text": [
      "/home1/wsp/CDK9/006/freeenergy/complex_6_20_200_200_restraint_loop_no_DI-PHE_0.01/loop_restraint_off_04_sir_this_way/post_processing/0.2/MBAR_energy.txt\n",
      "/home1/wsp/CDK9/006/freeenergy/complex_6_20_200_200_restraint_loop_no_DI-PHE_0.01/loop_restraint_off_04_sir_this_way/post_processing/0.4/MBAR_energy.txt\n",
      "/home1/wsp/CDK9/006/freeenergy/complex_6_20_200_200_restraint_loop_no_DI-PHE_0.01/loop_restraint_off_04_sir_this_way/post_processing/0.6/MBAR_energy.txt\n",
      "/home1/wsp/CDK9/006/freeenergy/complex_6_20_200_200_restraint_loop_no_DI-PHE_0.01/loop_restraint_off_04_sir_this_way/post_processing/0.8/MBAR_energy.txt\n",
      "/home1/wsp/CDK9/006/freeenergy/complex_6_20_200_200_restraint_loop_no_DI-PHE_0.01/loop_restraint_off_04_sir_this_way/post_processing/1.0/MBAR_energy.txt\n"
     ]
    }
   ],
   "source": [
    "for k in name_list[1:]:\n",
    "\n",
    "    os.chdir(f'{main_dir}/{k}')\n",
    "    result_path = os.getcwd() + '/MBAR_energy.txt'\n",
    "    print(result_path)\n",
    "    # if os.path.exists(result_path):\n",
    "    #     os.remove(result_path)\n",
    "\n",
    "    result = open(result_path,'w')\n",
    "    \n",
    "    # skip  lambda = 0.0\n",
    "\n",
    "    for l in name_list:\n",
    "        # if str(file) == str(text):\n",
    "        #     continue\n",
    "        with open(f'mbar_{k}_{l}.out','r') as f:\n",
    "            lines = [line for line in f.readlines() if line.strip()]\n",
    "            for index in range(len(lines)):\n",
    "                row = lines[index].split()\n",
    "                if row[0] == 'FINAL':\n",
    "                    \n",
    "                    #EAMBER = float(lines[index+6].split()[2]) # cancel\n",
    "                    RESTRAINT = float(lines[index+5].split()[10])\n",
    "\n",
    "                    # NMR RESTRAINT\n",
    "                    NTR = float(lines[index+7].split()[4]) + float(lines[index+7].split()[7]) + float(lines[index+7].split()[10])\n",
    "                    \n",
    "                    #reduced_potential = ((EAMBER + RESTRAINT) * 4.186 * 1000 / 6.02214076e23) * beta\n",
    "                    reduced_potential = ((RESTRAINT - NTR) * 4.186 * 1000 / 6.02214076e23) * beta\n",
    "\n",
    "                    \n",
    "                    # kcal/mol -> kJ/mol -> J/mol -> J -> reduced_potential\n",
    "                    \n",
    "                    result.write(\"%.4f\\n\" % (reduced_potential))\n",
    "\n",
    "    result.close()\n",
    "    os.chdir(main_dir)"
   ]
  },
  {
   "cell_type": "code",
   "execution_count": 4,
   "metadata": {},
   "outputs": [
    {
     "name": "stdout",
     "output_type": "stream",
     "text": [
      "/home1/wsp/CDK9/006/freeenergy/complex_6_20_200_200_restraint_loop_no_DI-PHE_0.01/loop_restraint_off_04_sir_this_way/post_processing/0.0/MBAR_energy.txt\n"
     ]
    }
   ],
   "source": [
    "# lambda = 0\n",
    "\n",
    "os.chdir(main_dir + '/' + str(name_list[0]))\n",
    "result_path = os.getcwd() + '/MBAR_energy.txt'\n",
    "print(result_path)\n",
    "if os.path.exists(result_path):\n",
    "    os.remove(result_path)\n",
    "\n",
    "result = open(result_path,'w')\n",
    "\n",
    "# lambda = 0\n",
    "\n",
    "for l in name_list:\n",
    "    # if str(file) == str(text):\n",
    "    #     continue\n",
    "    with open(f'mbar_0.0_{l}.out','r') as f:\n",
    "        lines = [line for line in f.readlines() if line.strip()]\n",
    "        for index in range(len(lines)):\n",
    "            row = lines[index].split()\n",
    "            if row[0] == 'FINAL':\n",
    "                #row1 = lines[index+3].split()\n",
    "                #row2 = lines[index+4].split()\n",
    "                #row3 = lines[index+5].split()\n",
    "                #EAMBER = float(row1[2]) + float(row1[5]) + float(row1[8]) + float(row2[2]) + float(row2[5]) + float(row2[8]) + + float(row3[3]) + float(row3[7])\n",
    "                #EAMBER = float(lines[index+2].split()[1])\n",
    "                \n",
    "                #reduced_potential = (EAMBER * 4.186 * 1000 / 6.02214076e23)  * beta\n",
    "                # kcal/mol -> kJ/mol -> kT -> reduced_potential\n",
    "                \n",
    "                # only restriant\n",
    "                reduced_potential = 0.0\n",
    "                \n",
    "                result.write(\"%0.4f\\n\" % (reduced_potential))\n",
    "\n",
    "result.close()\n",
    "os.chdir(main_dir)"
   ]
  }
 ],
 "metadata": {
  "kernelspec": {
   "display_name": "Python 3.6.8 64-bit",
   "language": "python",
   "name": "python3"
  },
  "language_info": {
   "codemirror_mode": {
    "name": "ipython",
    "version": 3
   },
   "file_extension": ".py",
   "mimetype": "text/x-python",
   "name": "python",
   "nbconvert_exporter": "python",
   "pygments_lexer": "ipython3",
   "version": "3.6.8"
  },
  "orig_nbformat": 4,
  "vscode": {
   "interpreter": {
    "hash": "916dbcbb3f70747c44a77c7bcd40155683ae19c65e1c03b4aa3499c5328201f1"
   }
  }
 },
 "nbformat": 4,
 "nbformat_minor": 2
}
