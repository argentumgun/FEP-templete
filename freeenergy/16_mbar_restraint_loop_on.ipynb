{
 "cells": [
  {
   "cell_type": "code",
   "execution_count": 1,
   "metadata": {},
   "outputs": [],
   "source": [
    "import os\n",
    "from typing import overload\n",
    "import numpy as np\n",
    "from pymbar import MBAR\n",
    "import pandas as pd"
   ]
  },
  {
   "cell_type": "code",
   "execution_count": 2,
   "metadata": {},
   "outputs": [],
   "source": [
    "os.chdir('complex_6_20_200_200_restraint_loop_no_DI-PHE_0.01/loop_restraint_on_01/post_processing_02')"
   ]
  },
  {
   "cell_type": "code",
   "execution_count": 3,
   "metadata": {},
   "outputs": [],
   "source": [
    "#beta = 1.0 / (300 * 1.380649 * 6.02214076 / 1000)\n",
    "beta = 1.0 / (300 * 1.380649e-23 )\n",
    "name_list = [0.0, 0.2, 0.4, 0.6, 0.8, 1.0]\n",
    "#name_list = [ 0.0, 0.01, 0.025, 0.05, 0.075, 0.1, 0.15, 0.2, 0.35, 0.5, 0.75, 1.0]\n",
    "#name_list = [ 0.01, 0.025, 0.05, 0.075, 0.1, 0.15, 0.2, 0.3, 0.4, 0.5, 0.6, 0.7, 0.85, 1]\n",
    "\n",
    "# number of states\n",
    "K = len(name_list)\n",
    "\n",
    "mian_dir = os.getcwd()"
   ]
  },
  {
   "cell_type": "code",
   "execution_count": 4,
   "metadata": {},
   "outputs": [],
   "source": [
    "os.chdir(mian_dir + '/' + str(name_list[0]))\n",
    "result_path = os.getcwd() + '/MBAR_energy.txt'"
   ]
  },
  {
   "cell_type": "code",
   "execution_count": 5,
   "metadata": {},
   "outputs": [],
   "source": [
    "u_kn = np.loadtxt(result_path)"
   ]
  },
  {
   "cell_type": "code",
   "execution_count": 6,
   "metadata": {},
   "outputs": [
    {
     "data": {
      "text/plain": [
       "(6000,)"
      ]
     },
     "execution_count": 6,
     "metadata": {},
     "output_type": "execute_result"
    }
   ],
   "source": [
    "u_kn.shape"
   ]
  },
  {
   "cell_type": "code",
   "execution_count": 7,
   "metadata": {},
   "outputs": [],
   "source": [
    "for file in range(1,len(name_list)):\n",
    "\n",
    "    os.chdir(mian_dir + '/' + str(name_list[file]))\n",
    "    result_path = os.getcwd() + '/MBAR_energy.txt'\n",
    "\n",
    "    a = np.loadtxt(result_path)\n",
    "    #print(a.shape)\n",
    "    #print(a)\n",
    "    u_kn = np.vstack((u_kn,a))"
   ]
  },
  {
   "cell_type": "code",
   "execution_count": 8,
   "metadata": {},
   "outputs": [
    {
     "data": {
      "text/plain": [
       "(6, 6000)"
      ]
     },
     "execution_count": 8,
     "metadata": {},
     "output_type": "execute_result"
    }
   ],
   "source": [
    "u_kn.shape"
   ]
  },
  {
   "cell_type": "code",
   "execution_count": 9,
   "metadata": {},
   "outputs": [
    {
     "data": {
      "text/plain": [
       "array([1000, 1000, 1000, 1000, 1000, 1000], dtype=int32)"
      ]
     },
     "execution_count": 9,
     "metadata": {},
     "output_type": "execute_result"
    }
   ],
   "source": [
    "N_k = np.full(K,u_kn.shape[1]/K, dtype=np.int32)\n",
    "N_k"
   ]
  },
  {
   "cell_type": "code",
   "execution_count": 10,
   "metadata": {},
   "outputs": [],
   "source": [
    "mbar = MBAR(u_kn,N_k)"
   ]
  },
  {
   "cell_type": "code",
   "execution_count": 11,
   "metadata": {},
   "outputs": [],
   "source": [
    "Delta_f_ij, dDelta_f_ij, Theta_ij = mbar.getFreeEnergyDifferences(return_theta=True)\n",
    "\n",
    "# kbT  -->   kcal/mol   (  *  0.596  )"
   ]
  },
  {
   "cell_type": "code",
   "execution_count": 12,
   "metadata": {},
   "outputs": [
    {
     "data": {
      "text/plain": [
       "array([[0.        , 0.02378343, 0.03339295, 0.03726653, 0.03958053,\n",
       "        0.04142057],\n",
       "       [0.02378343, 0.        , 0.01165925, 0.01736165, 0.02112974,\n",
       "        0.02416069],\n",
       "       [0.03339295, 0.01165925, 0.        , 0.0065609 , 0.01130458,\n",
       "        0.01523458],\n",
       "       [0.03726653, 0.01736165, 0.0065609 , 0.        , 0.0050607 ,\n",
       "        0.00940512],\n",
       "       [0.03958053, 0.02112974, 0.01130458, 0.0050607 , 0.        ,\n",
       "        0.00449461],\n",
       "       [0.04142057, 0.02416069, 0.01523458, 0.00940512, 0.00449461,\n",
       "        0.        ]])"
      ]
     },
     "execution_count": 12,
     "metadata": {},
     "output_type": "execute_result"
    }
   ],
   "source": [
    "dDelta_f_ij"
   ]
  },
  {
   "cell_type": "code",
   "execution_count": 13,
   "metadata": {},
   "outputs": [
    {
     "name": "stdout",
     "output_type": "stream",
     "text": [
      "Delta_f_ij.shape: (6, 6)\n",
      "Restraint energy : 3.257 ± 0.025 Kcal/mol\n"
     ]
    }
   ],
   "source": [
    "print('Delta_f_ij.shape:',Delta_f_ij.shape)\n",
    "print(f\"Restraint energy : {Delta_f_ij[0,-1] / beta / 1000 / 4.186 * 6.02214076e23:.3f} ± {dDelta_f_ij[0,-1] / beta / 1000 / 4.186 * 6.02214076e23:.3f} Kcal/mol\")\n",
    "with open(f'{mian_dir}/Restraint_energy.txt','w') as f:\n",
    "    f.write(f'Restraint energy(MBAR): {Delta_f_ij[0,-1] / beta / 1000 / 4.186 * 6.02214076e23:.3f} ± {dDelta_f_ij[0,-1] / beta / 1000 / 4.186 * 6.02214076e23:.3f} Kcal/mol\\n')\n",
    "    for i in range(K-1):\n",
    "        f.writelines(f'{Delta_f_ij[i][i+1] * 0.596:.3f}\\n')"
   ]
  },
  {
   "cell_type": "code",
   "execution_count": 14,
   "metadata": {},
   "outputs": [
    {
     "data": {
      "text/html": [
       "<div>\n",
       "<style scoped>\n",
       "    .dataframe tbody tr th:only-of-type {\n",
       "        vertical-align: middle;\n",
       "    }\n",
       "\n",
       "    .dataframe tbody tr th {\n",
       "        vertical-align: top;\n",
       "    }\n",
       "\n",
       "    .dataframe thead th {\n",
       "        text-align: right;\n",
       "    }\n",
       "</style>\n",
       "<table border=\"1\" class=\"dataframe\">\n",
       "  <thead>\n",
       "    <tr style=\"text-align: right;\">\n",
       "      <th></th>\n",
       "      <th>0</th>\n",
       "      <th>1</th>\n",
       "      <th>2</th>\n",
       "      <th>3</th>\n",
       "      <th>4</th>\n",
       "      <th>5</th>\n",
       "    </tr>\n",
       "  </thead>\n",
       "  <tbody>\n",
       "    <tr>\n",
       "      <th>0</th>\n",
       "      <td>0.000000</td>\n",
       "      <td>1.230946</td>\n",
       "      <td>1.959387</td>\n",
       "      <td>2.482164</td>\n",
       "      <td>2.902984</td>\n",
       "      <td>3.257548</td>\n",
       "    </tr>\n",
       "    <tr>\n",
       "      <th>1</th>\n",
       "      <td>-1.230946</td>\n",
       "      <td>0.000000</td>\n",
       "      <td>0.728441</td>\n",
       "      <td>1.251218</td>\n",
       "      <td>1.672038</td>\n",
       "      <td>2.026602</td>\n",
       "    </tr>\n",
       "    <tr>\n",
       "      <th>2</th>\n",
       "      <td>-1.959387</td>\n",
       "      <td>-0.728441</td>\n",
       "      <td>0.000000</td>\n",
       "      <td>0.522777</td>\n",
       "      <td>0.943597</td>\n",
       "      <td>1.298161</td>\n",
       "    </tr>\n",
       "    <tr>\n",
       "      <th>3</th>\n",
       "      <td>-2.482164</td>\n",
       "      <td>-1.251218</td>\n",
       "      <td>-0.522777</td>\n",
       "      <td>0.000000</td>\n",
       "      <td>0.420820</td>\n",
       "      <td>0.775384</td>\n",
       "    </tr>\n",
       "    <tr>\n",
       "      <th>4</th>\n",
       "      <td>-2.902984</td>\n",
       "      <td>-1.672038</td>\n",
       "      <td>-0.943597</td>\n",
       "      <td>-0.420820</td>\n",
       "      <td>0.000000</td>\n",
       "      <td>0.354564</td>\n",
       "    </tr>\n",
       "    <tr>\n",
       "      <th>5</th>\n",
       "      <td>-3.257548</td>\n",
       "      <td>-2.026602</td>\n",
       "      <td>-1.298161</td>\n",
       "      <td>-0.775384</td>\n",
       "      <td>-0.354564</td>\n",
       "      <td>0.000000</td>\n",
       "    </tr>\n",
       "  </tbody>\n",
       "</table>\n",
       "</div>"
      ],
      "text/plain": [
       "          0         1         2         3         4         5\n",
       "0  0.000000  1.230946  1.959387  2.482164  2.902984  3.257548\n",
       "1 -1.230946  0.000000  0.728441  1.251218  1.672038  2.026602\n",
       "2 -1.959387 -0.728441  0.000000  0.522777  0.943597  1.298161\n",
       "3 -2.482164 -1.251218 -0.522777  0.000000  0.420820  0.775384\n",
       "4 -2.902984 -1.672038 -0.943597 -0.420820  0.000000  0.354564\n",
       "5 -3.257548 -2.026602 -1.298161 -0.775384 -0.354564  0.000000"
      ]
     },
     "execution_count": 14,
     "metadata": {},
     "output_type": "execute_result"
    }
   ],
   "source": [
    "pd.DataFrame(Delta_f_ij * 0.596)"
   ]
  },
  {
   "cell_type": "code",
   "execution_count": 15,
   "metadata": {},
   "outputs": [
    {
     "data": {
      "text/html": [
       "<div>\n",
       "<style scoped>\n",
       "    .dataframe tbody tr th:only-of-type {\n",
       "        vertical-align: middle;\n",
       "    }\n",
       "\n",
       "    .dataframe tbody tr th {\n",
       "        vertical-align: top;\n",
       "    }\n",
       "\n",
       "    .dataframe thead th {\n",
       "        text-align: right;\n",
       "    }\n",
       "</style>\n",
       "<table border=\"1\" class=\"dataframe\">\n",
       "  <thead>\n",
       "    <tr style=\"text-align: right;\">\n",
       "      <th></th>\n",
       "      <th>0</th>\n",
       "      <th>1</th>\n",
       "      <th>2</th>\n",
       "      <th>3</th>\n",
       "      <th>4</th>\n",
       "      <th>5</th>\n",
       "    </tr>\n",
       "  </thead>\n",
       "  <tbody>\n",
       "    <tr>\n",
       "      <th>0</th>\n",
       "      <td>0.545</td>\n",
       "      <td>0.235</td>\n",
       "      <td>0.102</td>\n",
       "      <td>0.056</td>\n",
       "      <td>0.036</td>\n",
       "      <td>0.026</td>\n",
       "    </tr>\n",
       "    <tr>\n",
       "      <th>1</th>\n",
       "      <td>0.235</td>\n",
       "      <td>0.236</td>\n",
       "      <td>0.184</td>\n",
       "      <td>0.142</td>\n",
       "      <td>0.112</td>\n",
       "      <td>0.091</td>\n",
       "    </tr>\n",
       "    <tr>\n",
       "      <th>2</th>\n",
       "      <td>0.102</td>\n",
       "      <td>0.184</td>\n",
       "      <td>0.200</td>\n",
       "      <td>0.188</td>\n",
       "      <td>0.171</td>\n",
       "      <td>0.156</td>\n",
       "    </tr>\n",
       "    <tr>\n",
       "      <th>3</th>\n",
       "      <td>0.056</td>\n",
       "      <td>0.142</td>\n",
       "      <td>0.188</td>\n",
       "      <td>0.203</td>\n",
       "      <td>0.206</td>\n",
       "      <td>0.205</td>\n",
       "    </tr>\n",
       "    <tr>\n",
       "      <th>4</th>\n",
       "      <td>0.036</td>\n",
       "      <td>0.112</td>\n",
       "      <td>0.171</td>\n",
       "      <td>0.206</td>\n",
       "      <td>0.229</td>\n",
       "      <td>0.245</td>\n",
       "    </tr>\n",
       "    <tr>\n",
       "      <th>5</th>\n",
       "      <td>0.026</td>\n",
       "      <td>0.091</td>\n",
       "      <td>0.156</td>\n",
       "      <td>0.205</td>\n",
       "      <td>0.245</td>\n",
       "      <td>0.277</td>\n",
       "    </tr>\n",
       "  </tbody>\n",
       "</table>\n",
       "</div>"
      ],
      "text/plain": [
       "       0      1      2      3      4      5\n",
       "0  0.545  0.235  0.102  0.056  0.036  0.026\n",
       "1  0.235  0.236  0.184  0.142  0.112  0.091\n",
       "2  0.102  0.184  0.200  0.188  0.171  0.156\n",
       "3  0.056  0.142  0.188  0.203  0.206  0.205\n",
       "4  0.036  0.112  0.171  0.206  0.229  0.245\n",
       "5  0.026  0.091  0.156  0.205  0.245  0.277"
      ]
     },
     "execution_count": 15,
     "metadata": {},
     "output_type": "execute_result"
    }
   ],
   "source": [
    "O_ij = mbar.computeOverlap()['matrix']\n",
    "np.savetxt('../restraint_overlap.txt',O_ij,fmt='%.8f')\n",
    "O_ij.round(decimals=3, out=O_ij)\n",
    "pd.DataFrame(O_ij)"
   ]
  },
  {
   "cell_type": "code",
   "execution_count": 16,
   "metadata": {},
   "outputs": [
    {
     "data": {
      "text/plain": [
       "array([[0.        , 0.02378343, 0.03339295, 0.03726653, 0.03958053,\n",
       "        0.04142057],\n",
       "       [0.02378343, 0.        , 0.01165925, 0.01736165, 0.02112974,\n",
       "        0.02416069],\n",
       "       [0.03339295, 0.01165925, 0.        , 0.0065609 , 0.01130458,\n",
       "        0.01523458],\n",
       "       [0.03726653, 0.01736165, 0.0065609 , 0.        , 0.0050607 ,\n",
       "        0.00940512],\n",
       "       [0.03958053, 0.02112974, 0.01130458, 0.0050607 , 0.        ,\n",
       "        0.00449461],\n",
       "       [0.04142057, 0.02416069, 0.01523458, 0.00940512, 0.00449461,\n",
       "        0.        ]])"
      ]
     },
     "execution_count": 16,
     "metadata": {},
     "output_type": "execute_result"
    }
   ],
   "source": [
    "dDelta_f_ij"
   ]
  }
 ],
 "metadata": {
  "kernelspec": {
   "display_name": "Python 3.9.7 ('base')",
   "language": "python",
   "name": "python3"
  },
  "language_info": {
   "codemirror_mode": {
    "name": "ipython",
    "version": 3
   },
   "file_extension": ".py",
   "mimetype": "text/x-python",
   "name": "python",
   "nbconvert_exporter": "python",
   "pygments_lexer": "ipython3",
   "version": "3.9.7"
  },
  "orig_nbformat": 4,
  "vscode": {
   "interpreter": {
    "hash": "b6448ce1f87e3092c2b61988471f2179a9e78f4cad5bb3e1a1f5ed40c2175b16"
   }
  }
 },
 "nbformat": 4,
 "nbformat_minor": 2
}
