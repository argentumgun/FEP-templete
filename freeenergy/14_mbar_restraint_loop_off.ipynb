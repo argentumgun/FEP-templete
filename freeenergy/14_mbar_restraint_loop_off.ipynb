{
 "cells": [
  {
   "cell_type": "code",
   "execution_count": 1,
   "metadata": {},
   "outputs": [],
   "source": [
    "import os\n",
    "from typing import overload\n",
    "import numpy as np\n",
    "from pymbar import MBAR\n",
    "import pandas as pd"
   ]
  },
  {
   "cell_type": "code",
   "execution_count": 2,
   "metadata": {},
   "outputs": [],
   "source": [
    "os.chdir('complex_6_20_200_200_restraint_loop_no_DI-PHE_0.01/loop_restraint_off_04_sir_this_way/post_processing')"
   ]
  },
  {
   "cell_type": "code",
   "execution_count": 3,
   "metadata": {},
   "outputs": [],
   "source": [
    "#beta = 1.0 / (300 * 1.380649 * 6.02214076 / 1000)\n",
    "beta = 1.0 / (300 * 1.380649e-23 )\n",
    "name_list = [0.0, 0.2, 0.4, 0.6, 0.8, 1.0]\n",
    "#name_list = [ 0.0, 0.01, 0.025, 0.05, 0.075, 0.1, 0.15, 0.2, 0.35, 0.5, 0.75, 1.0]\n",
    "#name_list = [ 0.01, 0.025, 0.05, 0.075, 0.1, 0.15, 0.2, 0.3, 0.4, 0.5, 0.6, 0.7, 0.85, 1]\n",
    "\n",
    "# number of states\n",
    "K = len(name_list)\n",
    "\n",
    "mian_dir = os.getcwd()"
   ]
  },
  {
   "cell_type": "code",
   "execution_count": 4,
   "metadata": {},
   "outputs": [],
   "source": [
    "os.chdir(mian_dir + '/' + str(name_list[0]))\n",
    "result_path = os.getcwd() + '/MBAR_energy.txt'"
   ]
  },
  {
   "cell_type": "code",
   "execution_count": 5,
   "metadata": {},
   "outputs": [],
   "source": [
    "u_kn = np.loadtxt(result_path)"
   ]
  },
  {
   "cell_type": "code",
   "execution_count": 6,
   "metadata": {},
   "outputs": [
    {
     "data": {
      "text/plain": [
       "(6000,)"
      ]
     },
     "execution_count": 6,
     "metadata": {},
     "output_type": "execute_result"
    }
   ],
   "source": [
    "u_kn.shape"
   ]
  },
  {
   "cell_type": "code",
   "execution_count": 7,
   "metadata": {},
   "outputs": [],
   "source": [
    "for file in range(1,len(name_list)):\n",
    "\n",
    "    os.chdir(mian_dir + '/' + str(name_list[file]))\n",
    "    result_path = os.getcwd() + '/MBAR_energy.txt'\n",
    "\n",
    "    a = np.loadtxt(result_path)\n",
    "    #print(a.shape)\n",
    "    #print(a)\n",
    "    u_kn = np.vstack((u_kn,a))"
   ]
  },
  {
   "cell_type": "code",
   "execution_count": 8,
   "metadata": {},
   "outputs": [
    {
     "data": {
      "text/plain": [
       "(6, 6000)"
      ]
     },
     "execution_count": 8,
     "metadata": {},
     "output_type": "execute_result"
    }
   ],
   "source": [
    "u_kn.shape"
   ]
  },
  {
   "cell_type": "code",
   "execution_count": 9,
   "metadata": {},
   "outputs": [
    {
     "data": {
      "text/plain": [
       "array([1000, 1000, 1000, 1000, 1000, 1000], dtype=int32)"
      ]
     },
     "execution_count": 9,
     "metadata": {},
     "output_type": "execute_result"
    }
   ],
   "source": [
    "N_k = np.full(K,u_kn.shape[1]/K, dtype=np.int32)\n",
    "N_k"
   ]
  },
  {
   "cell_type": "code",
   "execution_count": 10,
   "metadata": {},
   "outputs": [],
   "source": [
    "mbar = MBAR(u_kn,N_k)"
   ]
  },
  {
   "cell_type": "code",
   "execution_count": 11,
   "metadata": {},
   "outputs": [],
   "source": [
    "Delta_f_ij, dDelta_f_ij, Theta_ij = mbar.getFreeEnergyDifferences(return_theta=True)\n",
    "\n",
    "# kbT  -->   kcal/mol   (  *  0.596  )"
   ]
  },
  {
   "cell_type": "code",
   "execution_count": 12,
   "metadata": {},
   "outputs": [
    {
     "data": {
      "text/plain": [
       "array([[0.        , 0.01030929, 0.01670425, 0.02083228, 0.02366974,\n",
       "        0.02578144],\n",
       "       [0.01030929, 0.        , 0.0069396 , 0.01173433, 0.01519446,\n",
       "        0.01784393],\n",
       "       [0.01670425, 0.0069396 , 0.        , 0.00506078, 0.0088807 ,\n",
       "        0.0119006 ],\n",
       "       [0.02083228, 0.01173433, 0.00506078, 0.        , 0.00396242,\n",
       "        0.00718744],\n",
       "       [0.02366974, 0.01519446, 0.0088807 , 0.00396242, 0.        ,\n",
       "        0.00330578],\n",
       "       [0.02578144, 0.01784393, 0.0119006 , 0.00718744, 0.00330578,\n",
       "        0.        ]])"
      ]
     },
     "execution_count": 12,
     "metadata": {},
     "output_type": "execute_result"
    }
   ],
   "source": [
    "dDelta_f_ij"
   ]
  },
  {
   "cell_type": "code",
   "execution_count": 13,
   "metadata": {},
   "outputs": [
    {
     "name": "stdout",
     "output_type": "stream",
     "text": [
      "Delta_f_ij.shape: (6, 6)\n",
      "Restraint energy : 1.874 ± 0.015 Kcal/mol\n"
     ]
    }
   ],
   "source": [
    "print('Delta_f_ij.shape:',Delta_f_ij.shape)\n",
    "print(f\"Restraint energy : {Delta_f_ij[0,-1] / beta / 1000 / 4.186 * 6.02214076e23:.3f} ± {dDelta_f_ij[0,-1] / beta / 1000 / 4.186 * 6.02214076e23:.3f} Kcal/mol\")\n",
    "with open(f'{mian_dir}/Restraint_energy.txt','w') as f:\n",
    "    f.write(f'Restraint energy(MBAR): {Delta_f_ij[0,-1] / beta / 1000 / 4.186 * 6.02214076e23:.3f} ± {dDelta_f_ij[0,-1] / beta / 1000 / 4.186 * 6.02214076e23:.3f} Kcal/mol\\n')\n",
    "    for i in range(K-1):\n",
    "        f.writelines(f'{Delta_f_ij[i][i+1] * 0.596:.3f}\\n')"
   ]
  },
  {
   "cell_type": "code",
   "execution_count": 14,
   "metadata": {},
   "outputs": [
    {
     "data": {
      "text/html": [
       "<div>\n",
       "<style scoped>\n",
       "    .dataframe tbody tr th:only-of-type {\n",
       "        vertical-align: middle;\n",
       "    }\n",
       "\n",
       "    .dataframe tbody tr th {\n",
       "        vertical-align: top;\n",
       "    }\n",
       "\n",
       "    .dataframe thead th {\n",
       "        text-align: right;\n",
       "    }\n",
       "</style>\n",
       "<table border=\"1\" class=\"dataframe\">\n",
       "  <thead>\n",
       "    <tr style=\"text-align: right;\">\n",
       "      <th></th>\n",
       "      <th>0</th>\n",
       "      <th>1</th>\n",
       "      <th>2</th>\n",
       "      <th>3</th>\n",
       "      <th>4</th>\n",
       "      <th>5</th>\n",
       "    </tr>\n",
       "  </thead>\n",
       "  <tbody>\n",
       "    <tr>\n",
       "      <th>0</th>\n",
       "      <td>0.000000</td>\n",
       "      <td>0.595961</td>\n",
       "      <td>1.040147</td>\n",
       "      <td>1.380074</td>\n",
       "      <td>1.650636</td>\n",
       "      <td>1.874384</td>\n",
       "    </tr>\n",
       "    <tr>\n",
       "      <th>1</th>\n",
       "      <td>-0.595961</td>\n",
       "      <td>0.000000</td>\n",
       "      <td>0.444186</td>\n",
       "      <td>0.784113</td>\n",
       "      <td>1.054675</td>\n",
       "      <td>1.278423</td>\n",
       "    </tr>\n",
       "    <tr>\n",
       "      <th>2</th>\n",
       "      <td>-1.040147</td>\n",
       "      <td>-0.444186</td>\n",
       "      <td>0.000000</td>\n",
       "      <td>0.339927</td>\n",
       "      <td>0.610488</td>\n",
       "      <td>0.834236</td>\n",
       "    </tr>\n",
       "    <tr>\n",
       "      <th>3</th>\n",
       "      <td>-1.380074</td>\n",
       "      <td>-0.784113</td>\n",
       "      <td>-0.339927</td>\n",
       "      <td>0.000000</td>\n",
       "      <td>0.270562</td>\n",
       "      <td>0.494310</td>\n",
       "    </tr>\n",
       "    <tr>\n",
       "      <th>4</th>\n",
       "      <td>-1.650636</td>\n",
       "      <td>-1.054675</td>\n",
       "      <td>-0.610488</td>\n",
       "      <td>-0.270562</td>\n",
       "      <td>0.000000</td>\n",
       "      <td>0.223748</td>\n",
       "    </tr>\n",
       "    <tr>\n",
       "      <th>5</th>\n",
       "      <td>-1.874384</td>\n",
       "      <td>-1.278423</td>\n",
       "      <td>-0.834236</td>\n",
       "      <td>-0.494310</td>\n",
       "      <td>-0.223748</td>\n",
       "      <td>0.000000</td>\n",
       "    </tr>\n",
       "  </tbody>\n",
       "</table>\n",
       "</div>"
      ],
      "text/plain": [
       "          0         1         2         3         4         5\n",
       "0  0.000000  0.595961  1.040147  1.380074  1.650636  1.874384\n",
       "1 -0.595961  0.000000  0.444186  0.784113  1.054675  1.278423\n",
       "2 -1.040147 -0.444186  0.000000  0.339927  0.610488  0.834236\n",
       "3 -1.380074 -0.784113 -0.339927  0.000000  0.270562  0.494310\n",
       "4 -1.650636 -1.054675 -0.610488 -0.270562  0.000000  0.223748\n",
       "5 -1.874384 -1.278423 -0.834236 -0.494310 -0.223748  0.000000"
      ]
     },
     "execution_count": 14,
     "metadata": {},
     "output_type": "execute_result"
    }
   ],
   "source": [
    "pd.DataFrame(Delta_f_ij * 0.596)"
   ]
  },
  {
   "cell_type": "code",
   "execution_count": 15,
   "metadata": {},
   "outputs": [
    {
     "data": {
      "text/html": [
       "<div>\n",
       "<style scoped>\n",
       "    .dataframe tbody tr th:only-of-type {\n",
       "        vertical-align: middle;\n",
       "    }\n",
       "\n",
       "    .dataframe tbody tr th {\n",
       "        vertical-align: top;\n",
       "    }\n",
       "\n",
       "    .dataframe thead th {\n",
       "        text-align: right;\n",
       "    }\n",
       "</style>\n",
       "<table border=\"1\" class=\"dataframe\">\n",
       "  <thead>\n",
       "    <tr style=\"text-align: right;\">\n",
       "      <th></th>\n",
       "      <th>0</th>\n",
       "      <th>1</th>\n",
       "      <th>2</th>\n",
       "      <th>3</th>\n",
       "      <th>4</th>\n",
       "      <th>5</th>\n",
       "    </tr>\n",
       "  </thead>\n",
       "  <tbody>\n",
       "    <tr>\n",
       "      <th>0</th>\n",
       "      <td>0.341</td>\n",
       "      <td>0.233</td>\n",
       "      <td>0.159</td>\n",
       "      <td>0.113</td>\n",
       "      <td>0.085</td>\n",
       "      <td>0.068</td>\n",
       "    </tr>\n",
       "    <tr>\n",
       "      <th>1</th>\n",
       "      <td>0.233</td>\n",
       "      <td>0.205</td>\n",
       "      <td>0.174</td>\n",
       "      <td>0.147</td>\n",
       "      <td>0.128</td>\n",
       "      <td>0.113</td>\n",
       "    </tr>\n",
       "    <tr>\n",
       "      <th>2</th>\n",
       "      <td>0.159</td>\n",
       "      <td>0.174</td>\n",
       "      <td>0.176</td>\n",
       "      <td>0.171</td>\n",
       "      <td>0.164</td>\n",
       "      <td>0.157</td>\n",
       "    </tr>\n",
       "    <tr>\n",
       "      <th>3</th>\n",
       "      <td>0.113</td>\n",
       "      <td>0.147</td>\n",
       "      <td>0.171</td>\n",
       "      <td>0.184</td>\n",
       "      <td>0.191</td>\n",
       "      <td>0.194</td>\n",
       "    </tr>\n",
       "    <tr>\n",
       "      <th>4</th>\n",
       "      <td>0.085</td>\n",
       "      <td>0.128</td>\n",
       "      <td>0.164</td>\n",
       "      <td>0.191</td>\n",
       "      <td>0.210</td>\n",
       "      <td>0.223</td>\n",
       "    </tr>\n",
       "    <tr>\n",
       "      <th>5</th>\n",
       "      <td>0.068</td>\n",
       "      <td>0.113</td>\n",
       "      <td>0.157</td>\n",
       "      <td>0.194</td>\n",
       "      <td>0.223</td>\n",
       "      <td>0.245</td>\n",
       "    </tr>\n",
       "  </tbody>\n",
       "</table>\n",
       "</div>"
      ],
      "text/plain": [
       "       0      1      2      3      4      5\n",
       "0  0.341  0.233  0.159  0.113  0.085  0.068\n",
       "1  0.233  0.205  0.174  0.147  0.128  0.113\n",
       "2  0.159  0.174  0.176  0.171  0.164  0.157\n",
       "3  0.113  0.147  0.171  0.184  0.191  0.194\n",
       "4  0.085  0.128  0.164  0.191  0.210  0.223\n",
       "5  0.068  0.113  0.157  0.194  0.223  0.245"
      ]
     },
     "execution_count": 15,
     "metadata": {},
     "output_type": "execute_result"
    }
   ],
   "source": [
    "O_ij = mbar.computeOverlap()['matrix']\n",
    "np.savetxt('../restraint_overlap.txt',O_ij,fmt='%.8f')\n",
    "O_ij.round(decimals=3, out=O_ij)\n",
    "pd.DataFrame(O_ij)"
   ]
  },
  {
   "cell_type": "code",
   "execution_count": 16,
   "metadata": {},
   "outputs": [
    {
     "data": {
      "text/plain": [
       "array([[0.        , 0.01030929, 0.01670425, 0.02083228, 0.02366974,\n",
       "        0.02578144],\n",
       "       [0.01030929, 0.        , 0.0069396 , 0.01173433, 0.01519446,\n",
       "        0.01784393],\n",
       "       [0.01670425, 0.0069396 , 0.        , 0.00506078, 0.0088807 ,\n",
       "        0.0119006 ],\n",
       "       [0.02083228, 0.01173433, 0.00506078, 0.        , 0.00396242,\n",
       "        0.00718744],\n",
       "       [0.02366974, 0.01519446, 0.0088807 , 0.00396242, 0.        ,\n",
       "        0.00330578],\n",
       "       [0.02578144, 0.01784393, 0.0119006 , 0.00718744, 0.00330578,\n",
       "        0.        ]])"
      ]
     },
     "execution_count": 16,
     "metadata": {},
     "output_type": "execute_result"
    }
   ],
   "source": [
    "dDelta_f_ij"
   ]
  },
  {
   "cell_type": "code",
   "execution_count": null,
   "metadata": {},
   "outputs": [],
   "source": []
  },
  {
   "cell_type": "code",
   "execution_count": null,
   "metadata": {},
   "outputs": [],
   "source": []
  }
 ],
 "metadata": {
  "kernelspec": {
   "display_name": "Python 3.9.7 ('base')",
   "language": "python",
   "name": "python3"
  },
  "language_info": {
   "codemirror_mode": {
    "name": "ipython",
    "version": 3
   },
   "file_extension": ".py",
   "mimetype": "text/x-python",
   "name": "python",
   "nbconvert_exporter": "python",
   "pygments_lexer": "ipython3",
   "version": "3.9.7"
  },
  "orig_nbformat": 4,
  "vscode": {
   "interpreter": {
    "hash": "b6448ce1f87e3092c2b61988471f2179a9e78f4cad5bb3e1a1f5ed40c2175b16"
   }
  }
 },
 "nbformat": 4,
 "nbformat_minor": 2
}
